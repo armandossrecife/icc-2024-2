{
  "nbformat": 4,
  "nbformat_minor": 0,
  "metadata": {
    "colab": {
      "provenance": [],
      "authorship_tag": "ABX9TyNu78E4a/yr/l8gQwnnKLKr",
      "include_colab_link": true
    },
    "kernelspec": {
      "name": "python3",
      "display_name": "Python 3"
    },
    "language_info": {
      "name": "python"
    }
  },
  "cells": [
    {
      "cell_type": "markdown",
      "metadata": {
        "id": "view-in-github",
        "colab_type": "text"
      },
      "source": [
        "<a href=\"https://colab.research.google.com/github/armandossrecife/icc-2024-2/blob/main/exemplos_dicionarios.ipynb\" target=\"_parent\"><img src=\"https://colab.research.google.com/assets/colab-badge.svg\" alt=\"Open In Colab\"/></a>"
      ]
    },
    {
      "cell_type": "markdown",
      "source": [
        "# Dicionários\n"
      ],
      "metadata": {
        "id": "-7ZeG3hrYqnO"
      }
    },
    {
      "cell_type": "markdown",
      "source": [
        "```python\n",
        "dicionario_qualquer = {\n",
        "    item1, # (chave1, valor1)\n",
        "    item2, # (chave2, valor2)\n",
        "    item3, # (chave3, valor3)\n",
        "    .. # ...\n",
        "    itemN # chaveN, valorN\n",
        "}\n",
        "```"
      ],
      "metadata": {
        "id": "7KexyNONY3WD"
      }
    },
    {
      "cell_type": "code",
      "execution_count": 12,
      "metadata": {
        "id": "UzA8XWdqYpmp"
      },
      "outputs": [],
      "source": [
        "dicionario_alunos = {\n",
        "    '202412345':('Maria Joaquina', 'Engenharia Civil'), # item1: chave: 202412345, valor: ('Maria Joaquina', 'Engenharia Civil')\n",
        "    '202412346':('Francisco da Silva', 'Ciência da Computação'), # item2: chave: 202412346, valor: ('Francisco da Silva', 'Ciência da Computação')\n",
        "    '201812347':('João Antônio Sousa', 'Matemática'), # item3, chave:201812347 valor:('João Antônio Sousa', 'Matemática')\n",
        "}"
      ]
    },
    {
      "cell_type": "code",
      "source": [
        "print(dicionario_alunos)"
      ],
      "metadata": {
        "colab": {
          "base_uri": "https://localhost:8080/"
        },
        "id": "eHhl4bYJYrhW",
        "outputId": "b0fdb6a1-5202-4fdd-9b1b-d24cec70c6cf"
      },
      "execution_count": 13,
      "outputs": [
        {
          "output_type": "stream",
          "name": "stdout",
          "text": [
            "{'202412345': ('Maria Joaquina', 'Engenharia Civil'), '202412346': ('Francisco da Silva', 'Ciência da Computação'), '201812347': ('João Antônio Sousa', 'Matemática')}\n"
          ]
        }
      ]
    },
    {
      "cell_type": "code",
      "source": [
        "print(\"Matrícula 202412345: \", dicionario_alunos['202412345'])\n",
        "print(\"Matrícula 201812347: \", dicionario_alunos['201812347'])\n",
        "\n",
        "dicionario_alunos['201923456'] = 'Carla Bezerra Tavares'\n",
        "print(dicionario_alunos)\n",
        "\n",
        "dicionario_alunos['201709876'] = 'Daniel Moura Fé'\n",
        "print(dicionario_alunos)"
      ],
      "metadata": {
        "colab": {
          "base_uri": "https://localhost:8080/"
        },
        "id": "9Ik-c7lianTw",
        "outputId": "f097a8d3-de22-4659-ae9a-086badfb2cec"
      },
      "execution_count": 14,
      "outputs": [
        {
          "output_type": "stream",
          "name": "stdout",
          "text": [
            "Matrícula 202412345:  ('Maria Joaquina', 'Engenharia Civil')\n",
            "Matrícula 201812347:  ('João Antônio Sousa', 'Matemática')\n",
            "{'202412345': ('Maria Joaquina', 'Engenharia Civil'), '202412346': ('Francisco da Silva', 'Ciência da Computação'), '201812347': ('João Antônio Sousa', 'Matemática'), '201923456': 'Carla Bezerra Tavares'}\n",
            "{'202412345': ('Maria Joaquina', 'Engenharia Civil'), '202412346': ('Francisco da Silva', 'Ciência da Computação'), '201812347': ('João Antônio Sousa', 'Matemática'), '201923456': 'Carla Bezerra Tavares', '201709876': 'Daniel Moura Fé'}\n"
          ]
        }
      ]
    },
    {
      "cell_type": "code",
      "source": [
        "print(\"Tamanho do dicionario: \", len(dicionario_alunos))\n",
        "print(\"Primeiro item do dicionario: \", dicionario_alunos['202412345'])\n",
        "dado = dicionario_alunos['202412345']\n",
        "nome = dado[0]\n",
        "curso = dado[1]\n",
        "print(\"Primeiro item do dicionario: \", \"Nome: \", nome, \"Curso: \", curso)"
      ],
      "metadata": {
        "colab": {
          "base_uri": "https://localhost:8080/"
        },
        "id": "ORm49HKjZBhh",
        "outputId": "60e6fc34-9a5b-4461-b613-cc32593ab487"
      },
      "execution_count": 15,
      "outputs": [
        {
          "output_type": "stream",
          "name": "stdout",
          "text": [
            "Tamanho do dicionario:  5\n",
            "Primeiro item do dicionario:  ('Maria Joaquina', 'Engenharia Civil')\n",
            "Primeiro item do dicionario:  Nome:  Maria Joaquina Curso:  Engenharia Civil\n"
          ]
        }
      ]
    },
    {
      "cell_type": "markdown",
      "source": [
        "## Organizando o algoritmo em um programa python"
      ],
      "metadata": {
        "id": "5L0McZObZPsW"
      }
    },
    {
      "cell_type": "markdown",
      "source": [
        "Crie um programa que armazene as informações de alunos, e logo depois pergunte a matrícula do aluno e mostre as informações do aluno correspondente.\n",
        "\n",
        "### 1a. parte interpretação do problema\n",
        "- Quais são informações dos alunos?\n",
        "- Como é a matrícula do aluno?\n",
        "- \"Imprima na tela\" as informações do aluno com a matrícula pesquisada\n",
        "\n",
        "### ENTRADA DE DADOS\n",
        "- 2a. decomposição do problema\n",
        "- matricula: é uma string composta por 9 caracteres\n",
        "- Pergunte a informação da matricula\n",
        "\n",
        "### PROCESSAMENTO\n",
        "- ARMAZENAMENTO\n",
        "- informações: matricula, nome, curso, periodo, disciplinas\n",
        "- ESTRUTURA DOS DADOS\n",
        "organização dos dados\n",
        "estrutura em tempo de memória: dicionário\n",
        "\n",
        "### SAÍDA:\n",
        "Mostre o resultado da consulta da matricula:\n",
        "matricula,\n",
        "nome,\n",
        "curso,\n",
        "periodo,\n",
        "disciplinas"
      ],
      "metadata": {
        "id": "jnYXDHw4ZW1Q"
      }
    },
    {
      "cell_type": "code",
      "source": [
        "# Estrutura de dados que armazena (memória principal) as informacoes dos alunos\n",
        "# Informacoes: matricula, nome, curso, periodo, disciplinas\n",
        "dicionario_alunos = {\n",
        "    '202412345':('Maria Joaquina', 'Engenharia Civil', '2024.2', ['Cálculo 1', 'Química 1', 'Concreto Armado']),\n",
        "    '202412346':('Francisco da Silva', 'Ciência da Computação','2024.2',  ['Engenharia de Software 1', 'Sistemas Operacionais']),\n",
        "    '201812347':('João Antônio Sousa', 'Matemática', '2024.2', ['Cálculo 1', 'Fundamentos de Equações Diferenciais']),\n",
        "    '201923456':('Carla Bezerra Tavares', 'Direito', '2024.2', ['Direito Civil', 'Ermeneutica']),\n",
        "    '201709876':('Daniel Moura Fé', 'Medicina', '2024.2', ['Química Geral', 'Anatomia'])\n",
        "}\n",
        "\n",
        "# PROCESSAMENTO\n",
        "# Para facilitar o entendimento da estrutura de itens dentro de um dicionario\n",
        "# Guarde informacoes menores e mais simples em variaveis auxiliares\n",
        "matricula_aluno1 = input(\"Digite a matricula do aluno: \")\n",
        "\n",
        "if matricula_aluno1 in dicionario_alunos:\n",
        "    valor_aluno1 = dicionario_alunos[matricula_aluno1]\n",
        "    nome_aluno1 = valor_aluno1[0]\n",
        "    curso_aluno1 = valor_aluno1[1]\n",
        "    periodo_corrente_aluno1 = valor_aluno1[2]\n",
        "    disciplinas_aluno1 = valor_aluno1[3]\n",
        "    # SAIDA\n",
        "    # Informacoes do aluno pesquisado\n",
        "    print(\"Informações do aluno\")\n",
        "    print(\"Matricula: \", matricula_aluno1)\n",
        "    print(\"Nome: \", nome_aluno1)\n",
        "    print(\"Curso: \", curso_aluno1)\n",
        "    print(\"Período corrente: \", periodo_corrente_aluno1)\n",
        "    print(\"Disciplinas do período corrente: \", disciplinas_aluno1)\n",
        "else:\n",
        "    print(\"O aluno de matricula \", matricula_aluno1, \" não existe!\")\n"
      ],
      "metadata": {
        "colab": {
          "base_uri": "https://localhost:8080/"
        },
        "id": "qqEB4G5_ZKID",
        "outputId": "6282b094-1cc6-4bc5-9c92-5343db099736"
      },
      "execution_count": 6,
      "outputs": [
        {
          "output_type": "stream",
          "name": "stdout",
          "text": [
            "Digite a matricula do aluno: 202412345\n",
            "Informações do aluno\n",
            "Matricula:  202412345\n",
            "Nome:  Maria Joaquina\n",
            "Curso:  Engenharia Civil\n",
            "Período corrente:  2024.2\n",
            "Disciplinas do período corrente:  ['Cálculo 1', 'Química 1', 'Concreto Armado']\n"
          ]
        }
      ]
    },
    {
      "cell_type": "markdown",
      "source": [
        "## Acessando todas as chaves e todas os valores de cada item de um dicionario"
      ],
      "metadata": {
        "id": "LtzEs18mZ3rX"
      }
    },
    {
      "cell_type": "code",
      "source": [
        "# listar todas as chaves do dicionario\n",
        "chaves_dicionario = dicionario_alunos.keys()\n",
        "print(type(chaves_dicionario))\n",
        "lista_chaves_dicionario = list(chaves_dicionario)\n",
        "print(type(lista_chaves_dicionario))\n",
        "print(lista_chaves_dicionario)\n",
        "\n",
        "# listar todos os valores de cada item do dicionario\n",
        "valores_itens = dicionario_alunos.values()\n",
        "print(type(valores_itens))\n",
        "lista_valores_itens = list(valores_itens)\n",
        "print(type(lista_valores_itens))\n",
        "print(lista_valores_itens)"
      ],
      "metadata": {
        "colab": {
          "base_uri": "https://localhost:8080/"
        },
        "id": "ui2GNF4jZ9pn",
        "outputId": "2a4baacb-eca7-4e18-df64-576c73bbd4de"
      },
      "execution_count": 8,
      "outputs": [
        {
          "output_type": "stream",
          "name": "stdout",
          "text": [
            "<class 'dict_keys'>\n",
            "<class 'list'>\n",
            "['202412345', '202412346', '201812347', '201923456', '201709876']\n",
            "<class 'dict_values'>\n",
            "<class 'list'>\n",
            "[('Maria Joaquina', 'Engenharia Civil', '2024.2', ['Cálculo 1', 'Química 1', 'Concreto Armado']), ('Francisco da Silva', 'Ciência da Computação', '2024.2', ['Engenharia de Software 1', 'Sistemas Operacionais']), ('João Antônio Sousa', 'Matemática', '2024.2', ['Cálculo 1', 'Fundamentos de Equações Diferenciais']), ('Carla Bezerra Tavares', 'Direito', '2024.2', ['Direito Civil', 'Ermeneutica']), ('Daniel Moura Fé', 'Medicina', '2024.2', ['Química Geral', 'Anatomia'])]\n"
          ]
        }
      ]
    },
    {
      "cell_type": "markdown",
      "source": [
        "## Alterando e removendo itens de um dicionario"
      ],
      "metadata": {
        "id": "wFtNxZf-aOFh"
      }
    },
    {
      "cell_type": "code",
      "source": [
        "dicionario_alunos = {\n",
        "    '202412345':('Maria Joaquina', 'Engenharia Civil', '2024.2', ['Cálculo 1', 'Química 1', 'Concreto Armado']),\n",
        "    '202412346':('Francisco da Silva', 'Ciência da Computação','2024.2',  ['Engenharia de Software 1', 'Sistemas Operacionais']),\n",
        "    '201812347':('João Antônio Sousa', 'Matemática', '2024.2', ['Cálculo 1', 'Fundamentos de Equações Diferenciais']),\n",
        "    '201923456':('Carla Bezerra Tavares', 'Direito', '2024.2', ['Direito Civil', 'Ermeneutica']),\n",
        "    '201709876':('Daniel Moura Fé', 'Medicina', '2024.2', ['Química Geral', 'Anatomia'])\n",
        "}\n",
        "\n",
        "print(dicionario_alunos)\n",
        "\n",
        "dicionario_alunos['201709876'] = ('Daniel Moura Fé', 'Medicina', '2024.1', ['Química Geral', 'Anatomia'])\n",
        "\n",
        "print(dicionario_alunos)\n",
        "\n",
        "# Remove o iten de matrila 201709876\n",
        "dicionario_alunos.pop('201709876')\n",
        "\n",
        "print(dicionario_alunos)"
      ],
      "metadata": {
        "colab": {
          "base_uri": "https://localhost:8080/"
        },
        "id": "yAQrYI4oaI8u",
        "outputId": "2bfb0715-a471-4bac-a8be-56788d0ac532"
      },
      "execution_count": 10,
      "outputs": [
        {
          "output_type": "stream",
          "name": "stdout",
          "text": [
            "{'202412345': ('Maria Joaquina', 'Engenharia Civil', '2024.2', ['Cálculo 1', 'Química 1', 'Concreto Armado']), '202412346': ('Francisco da Silva', 'Ciência da Computação', '2024.2', ['Engenharia de Software 1', 'Sistemas Operacionais']), '201812347': ('João Antônio Sousa', 'Matemática', '2024.2', ['Cálculo 1', 'Fundamentos de Equações Diferenciais']), '201923456': ('Carla Bezerra Tavares', 'Direito', '2024.2', ['Direito Civil', 'Ermeneutica']), '201709876': ('Daniel Moura Fé', 'Medicina', '2024.2', ['Química Geral', 'Anatomia'])}\n",
            "{'202412345': ('Maria Joaquina', 'Engenharia Civil', '2024.2', ['Cálculo 1', 'Química 1', 'Concreto Armado']), '202412346': ('Francisco da Silva', 'Ciência da Computação', '2024.2', ['Engenharia de Software 1', 'Sistemas Operacionais']), '201812347': ('João Antônio Sousa', 'Matemática', '2024.2', ['Cálculo 1', 'Fundamentos de Equações Diferenciais']), '201923456': ('Carla Bezerra Tavares', 'Direito', '2024.2', ['Direito Civil', 'Ermeneutica']), '201709876': ('Daniel Moura Fé', 'Medicina', '2024.1', ['Química Geral', 'Anatomia'])}\n",
            "{'202412345': ('Maria Joaquina', 'Engenharia Civil', '2024.2', ['Cálculo 1', 'Química 1', 'Concreto Armado']), '202412346': ('Francisco da Silva', 'Ciência da Computação', '2024.2', ['Engenharia de Software 1', 'Sistemas Operacionais']), '201812347': ('João Antônio Sousa', 'Matemática', '2024.2', ['Cálculo 1', 'Fundamentos de Equações Diferenciais']), '201923456': ('Carla Bezerra Tavares', 'Direito', '2024.2', ['Direito Civil', 'Ermeneutica'])}\n"
          ]
        }
      ]
    }
  ]
}