{
  "nbformat": 4,
  "nbformat_minor": 0,
  "metadata": {
    "colab": {
      "provenance": [],
      "authorship_tag": "ABX9TyOno/gnD852apd7WUFflmdm",
      "include_colab_link": true
    },
    "kernelspec": {
      "name": "python3",
      "display_name": "Python 3"
    },
    "language_info": {
      "name": "python"
    }
  },
  "cells": [
    {
      "cell_type": "markdown",
      "metadata": {
        "id": "view-in-github",
        "colab_type": "text"
      },
      "source": [
        "<a href=\"https://colab.research.google.com/github/armandossrecife/icc-2024-2/blob/main/exercicios_for.ipynb\" target=\"_parent\"><img src=\"https://colab.research.google.com/assets/colab-badge.svg\" alt=\"Open In Colab\"/></a>"
      ]
    },
    {
      "cell_type": "markdown",
      "source": [
        "# Lista de exercícios sobre o comando for"
      ],
      "metadata": {
        "id": "kf85pyTpJJ5R"
      }
    },
    {
      "cell_type": "markdown",
      "source": [
        "Usando a linguagem Python, crie os seguintes programas:\n",
        "\n",
        "1. Imprimir os números de 1 a 10\n",
        "\n",
        "2. Calcular a soma dos números de 1 a 100\n",
        "\n",
        "3. Crie uma lista que armazene 7 nomes de pessoas e logo depois imprima os elementos desta lista.\n",
        "\n",
        "4. Criar uma tabela de multiplicação de 1 a 10\n",
        "\n",
        "5. Imprima apenas os números pares\n",
        "\n",
        "6. Imprima apenas os números ímpares"
      ],
      "metadata": {
        "id": "rHay6m5RJNK-"
      }
    },
    {
      "cell_type": "code",
      "source": [
        "# Imprimir os números de 1 a 10"
      ],
      "metadata": {
        "id": "8D2oUMx4JRmj"
      },
      "execution_count": 2,
      "outputs": []
    },
    {
      "cell_type": "code",
      "source": [
        "# Calcular a soma dos números de 1 a 100"
      ],
      "metadata": {
        "id": "ukdQHNcyJT5T"
      },
      "execution_count": 3,
      "outputs": []
    },
    {
      "cell_type": "code",
      "source": [
        "# Crie uma lista que armazene 7 nomes de pessoas e logo depois imprima os elementos desta lista."
      ],
      "metadata": {
        "id": "Eb7B0fYXJXVL"
      },
      "execution_count": 4,
      "outputs": []
    },
    {
      "cell_type": "code",
      "source": [
        "# Criar uma tabela de multiplicação de 1 a 10"
      ],
      "metadata": {
        "id": "g9IZBFW9JZNO"
      },
      "execution_count": 5,
      "outputs": []
    },
    {
      "cell_type": "code",
      "source": [
        "# Imprima apenas os números pares"
      ],
      "metadata": {
        "id": "MYF627hRJbYJ"
      },
      "execution_count": 6,
      "outputs": []
    },
    {
      "cell_type": "code",
      "source": [
        "# Imprima apenas os números ímpares"
      ],
      "metadata": {
        "id": "4oyhTh1WJdTY"
      },
      "execution_count": 7,
      "outputs": []
    }
  ]
}