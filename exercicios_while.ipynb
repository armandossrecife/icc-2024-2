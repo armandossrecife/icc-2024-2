{
  "nbformat": 4,
  "nbformat_minor": 0,
  "metadata": {
    "colab": {
      "provenance": [],
      "authorship_tag": "ABX9TyOTK2vSz5n70fiXg0tj6PFQ",
      "include_colab_link": true
    },
    "kernelspec": {
      "name": "python3",
      "display_name": "Python 3"
    },
    "language_info": {
      "name": "python"
    }
  },
  "cells": [
    {
      "cell_type": "markdown",
      "metadata": {
        "id": "view-in-github",
        "colab_type": "text"
      },
      "source": [
        "<a href=\"https://colab.research.google.com/github/armandossrecife/icc-2024-2/blob/main/exercicios_while.ipynb\" target=\"_parent\"><img src=\"https://colab.research.google.com/assets/colab-badge.svg\" alt=\"Open In Colab\"/></a>"
      ]
    },
    {
      "cell_type": "markdown",
      "source": [
        "# Lista de exercícios sobre o comando while"
      ],
      "metadata": {
        "id": "kf85pyTpJJ5R"
      }
    },
    {
      "cell_type": "markdown",
      "source": [
        "Usando a linguagem Python, crie os seguintes programas:\n",
        "\n",
        "1. Crie um contador simples de 1 até 10.\n",
        "\n",
        "2. Leia um número inteiro positivo e calcule o seu fatorial.\n",
        "\n",
        "3. Leia um número inteiro positivo e verifique se este número é primo.\n",
        "\n",
        "4. Leia dois números reais e simule uma calculadora simples com as operações de adição, subtração, multiplicação e divisão.\n",
        "\n",
        "5. Leia um número entre 1 e 100 e simule o jogo de adivinhação.\n"
      ],
      "metadata": {
        "id": "rHay6m5RJNK-"
      }
    },
    {
      "cell_type": "code",
      "source": [
        "# Crie um contador simples de 1 até 10."
      ],
      "metadata": {
        "id": "8D2oUMx4JRmj"
      },
      "execution_count": null,
      "outputs": []
    },
    {
      "cell_type": "code",
      "source": [
        "# Leia um número inteiro positivo e calcule o seu fatorial."
      ],
      "metadata": {
        "id": "ukdQHNcyJT5T"
      },
      "execution_count": null,
      "outputs": []
    },
    {
      "cell_type": "code",
      "source": [
        "# Leia um número inteiro positivo e verifique se este número é primo."
      ],
      "metadata": {
        "id": "Eb7B0fYXJXVL"
      },
      "execution_count": null,
      "outputs": []
    },
    {
      "cell_type": "code",
      "source": [
        "# Leia dois números reais e simule uma calculadora simples com as operações de adição, subtração, multiplicação e divisão."
      ],
      "metadata": {
        "id": "g9IZBFW9JZNO"
      },
      "execution_count": null,
      "outputs": []
    },
    {
      "cell_type": "code",
      "source": [
        "# Leia um número entre 1 e 100 e simule o jogo de adivinhação."
      ],
      "metadata": {
        "id": "MYF627hRJbYJ"
      },
      "execution_count": null,
      "outputs": []
    }
  ]
}