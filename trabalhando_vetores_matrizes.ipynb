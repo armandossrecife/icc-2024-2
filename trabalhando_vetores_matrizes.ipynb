{
  "nbformat": 4,
  "nbformat_minor": 0,
  "metadata": {
    "colab": {
      "provenance": [],
      "authorship_tag": "ABX9TyNiY3dMVDieGSn+PZIsDFds",
      "include_colab_link": true
    },
    "kernelspec": {
      "name": "python3",
      "display_name": "Python 3"
    },
    "language_info": {
      "name": "python"
    }
  },
  "cells": [
    {
      "cell_type": "markdown",
      "metadata": {
        "id": "view-in-github",
        "colab_type": "text"
      },
      "source": [
        "<a href=\"https://colab.research.google.com/github/armandossrecife/icc-2024-2/blob/main/trabalhando_vetores_matrizes.ipynb\" target=\"_parent\"><img src=\"https://colab.research.google.com/assets/colab-badge.svg\" alt=\"Open In Colab\"/></a>"
      ]
    },
    {
      "cell_type": "markdown",
      "source": [
        "# Representação de Vetores (Arrays) e Matrizes (m linhas x n colunas) - Usando LISTAS no Python"
      ],
      "metadata": {
        "id": "Jf35f7ROJ4Vb"
      }
    },
    {
      "cell_type": "code",
      "execution_count": 140,
      "metadata": {
        "id": "ze6cZnYRH5_O"
      },
      "outputs": [],
      "source": [
        "# Um vetor (array) de 3 elementos\n",
        "v1 = [10, 20, 30]\n",
        "v2 = [15.5, 21.7, 30.2]"
      ]
    },
    {
      "cell_type": "code",
      "source": [
        "print(v1)"
      ],
      "metadata": {
        "colab": {
          "base_uri": "https://localhost:8080/"
        },
        "id": "P92woNzPIFd8",
        "outputId": "fcc8275e-fb0e-4b23-8d57-02bb901b0e24"
      },
      "execution_count": 141,
      "outputs": [
        {
          "output_type": "stream",
          "name": "stdout",
          "text": [
            "[10, 20, 30]\n"
          ]
        }
      ]
    },
    {
      "cell_type": "code",
      "source": [
        "print(v2)"
      ],
      "metadata": {
        "colab": {
          "base_uri": "https://localhost:8080/"
        },
        "id": "LynJsamMIJtk",
        "outputId": "7a5d121f-ec2d-4288-eebb-836bbe7f9699"
      },
      "execution_count": 142,
      "outputs": [
        {
          "output_type": "stream",
          "name": "stdout",
          "text": [
            "[15.5, 21.7, 30.2]\n"
          ]
        }
      ]
    },
    {
      "cell_type": "markdown",
      "source": [
        "## Acessar os elementos de um vetor usando seus índices"
      ],
      "metadata": {
        "id": "12lreafkMqPW"
      }
    },
    {
      "cell_type": "code",
      "source": [
        "v1[0], v1[1], v1[2]"
      ],
      "metadata": {
        "colab": {
          "base_uri": "https://localhost:8080/"
        },
        "id": "Z2JBI3ThKEME",
        "outputId": "dc643940-61e5-41e2-e750-22b8110010db"
      },
      "execution_count": 143,
      "outputs": [
        {
          "output_type": "execute_result",
          "data": {
            "text/plain": [
              "(10, 20, 30)"
            ]
          },
          "metadata": {},
          "execution_count": 143
        }
      ]
    },
    {
      "cell_type": "code",
      "source": [
        "MATRIZ_EXEMPLO = [\n",
        "    [30, 32, 40],\n",
        "    [14, 20, 12],\n",
        "    [20, 25, 28]\n",
        "]"
      ],
      "metadata": {
        "id": "XaU9xgCUIKUh"
      },
      "execution_count": 144,
      "outputs": []
    },
    {
      "cell_type": "code",
      "source": [
        "MATRIZ_EXEMPLO = [[30, 32, 40],[14, 20, 12],[20, 25, 28]]"
      ],
      "metadata": {
        "id": "lHLelIdDM2Ym"
      },
      "execution_count": 145,
      "outputs": []
    },
    {
      "cell_type": "code",
      "source": [
        "print(MATRIZ_EXEMPLO)"
      ],
      "metadata": {
        "colab": {
          "base_uri": "https://localhost:8080/"
        },
        "id": "bgJ_Ld4WIrgd",
        "outputId": "7cb2b36c-9788-43ec-a010-48dc0c39f58d"
      },
      "execution_count": 146,
      "outputs": [
        {
          "output_type": "stream",
          "name": "stdout",
          "text": [
            "[[30, 32, 40], [14, 20, 12], [20, 25, 28]]\n"
          ]
        }
      ]
    },
    {
      "cell_type": "code",
      "source": [
        "MATRIZ_EXEMPLO[0][0]"
      ],
      "metadata": {
        "colab": {
          "base_uri": "https://localhost:8080/"
        },
        "id": "PFgN8nxWIxEa",
        "outputId": "ccf1a367-bd13-4853-8e19-730c4c04854e"
      },
      "execution_count": 147,
      "outputs": [
        {
          "output_type": "execute_result",
          "data": {
            "text/plain": [
              "30"
            ]
          },
          "metadata": {},
          "execution_count": 147
        }
      ]
    },
    {
      "cell_type": "code",
      "source": [
        "# 1a linha\n",
        "print(\"a(0,0): elemento(1,1)\", MATRIZ_EXEMPLO[0][0])\n",
        "print(\"a(0,1): elemento(1,2)\", MATRIZ_EXEMPLO[0][1])\n",
        "print(\"a(0,2): elemento(1,3)\",MATRIZ_EXEMPLO[0][2])\n",
        "# 2a linha\n",
        "print(\"a(1,0): elemento(2,1)\", MATRIZ_EXEMPLO[1][0])\n",
        "print(\"a(1,1): elemento(2,2)\", MATRIZ_EXEMPLO[1][1])\n",
        "print(\"a(1,2): elemento(2,3)\", MATRIZ_EXEMPLO[1][2])\n",
        "# 3a linha\n",
        "print(\"a(2,0): elemento(3,1)\", MATRIZ_EXEMPLO[2][0])\n",
        "print(\"a(2,1): elemento(3,2)\", MATRIZ_EXEMPLO[2][1])\n",
        "print(\"a(2,2): elemento(3,3)\", MATRIZ_EXEMPLO[2][2])"
      ],
      "metadata": {
        "colab": {
          "base_uri": "https://localhost:8080/"
        },
        "id": "nYZTZEcrKbjM",
        "outputId": "5deb1c26-ba6c-49bc-b513-b2af44f8939a"
      },
      "execution_count": 148,
      "outputs": [
        {
          "output_type": "stream",
          "name": "stdout",
          "text": [
            "a(0,0): elemento(1,1) 30\n",
            "a(0,1): elemento(1,2) 32\n",
            "a(0,2): elemento(1,3) 40\n",
            "a(1,0): elemento(2,1) 14\n",
            "a(1,1): elemento(2,2) 20\n",
            "a(1,2): elemento(2,3) 12\n",
            "a(2,0): elemento(3,1) 20\n",
            "a(2,1): elemento(3,2) 25\n",
            "a(2,2): elemento(3,3) 28\n"
          ]
        }
      ]
    },
    {
      "cell_type": "code",
      "source": [
        "# 2a linha\n",
        "print(MATRIZ_EXEMPLO[1][0])\n",
        "print(MATRIZ_EXEMPLO[1][1])\n",
        "print(MATRIZ_EXEMPLO[1][2])"
      ],
      "metadata": {
        "colab": {
          "base_uri": "https://localhost:8080/"
        },
        "id": "mLk3shBCKwyV",
        "outputId": "d8dbeb90-423c-49da-e06c-96571757f93b"
      },
      "execution_count": 149,
      "outputs": [
        {
          "output_type": "stream",
          "name": "stdout",
          "text": [
            "14\n",
            "20\n",
            "12\n"
          ]
        }
      ]
    },
    {
      "cell_type": "code",
      "source": [
        "# 3a linha\n",
        "print(MATRIZ_EXEMPLO[2][0])\n",
        "print(MATRIZ_EXEMPLO[2][1])\n",
        "print(MATRIZ_EXEMPLO[2][2])"
      ],
      "metadata": {
        "colab": {
          "base_uri": "https://localhost:8080/"
        },
        "id": "IOcx9yuPKrh3",
        "outputId": "ef56e02a-ff9d-4d00-cee4-86b52de3d2ab"
      },
      "execution_count": 150,
      "outputs": [
        {
          "output_type": "stream",
          "name": "stdout",
          "text": [
            "20\n",
            "25\n",
            "28\n"
          ]
        }
      ]
    },
    {
      "cell_type": "markdown",
      "source": [
        "# Usando Álgebra Linear com vetores e matrizes de alta ordem (milhões de elementos, bilhões de elementos...)"
      ],
      "metadata": {
        "id": "gAPA1amVOeQE"
      }
    },
    {
      "cell_type": "code",
      "source": [
        "import numpy"
      ],
      "metadata": {
        "id": "FhbYJMxhK3aG"
      },
      "execution_count": 151,
      "outputs": []
    },
    {
      "cell_type": "markdown",
      "source": [
        "# Definição de um vetor (alta ordem) usando o Numpy"
      ],
      "metadata": {
        "id": "sh78FX9zPdSR"
      }
    },
    {
      "cell_type": "code",
      "source": [
        "vetor1 = [1, 2, 3, 4, 5]\n",
        "vetor2 = numpy.array(vetor1)"
      ],
      "metadata": {
        "id": "nKPwIBLnOoPT"
      },
      "execution_count": 152,
      "outputs": []
    },
    {
      "cell_type": "code",
      "source": [
        "print(vetor2)"
      ],
      "metadata": {
        "colab": {
          "base_uri": "https://localhost:8080/"
        },
        "id": "Eap2rWJmPKtg",
        "outputId": "c69a0bd0-3740-414b-b5b8-7dc9880659eb"
      },
      "execution_count": 153,
      "outputs": [
        {
          "output_type": "stream",
          "name": "stdout",
          "text": [
            "[1 2 3 4 5]\n"
          ]
        }
      ]
    },
    {
      "cell_type": "code",
      "source": [
        "print(type(vetor2))"
      ],
      "metadata": {
        "colab": {
          "base_uri": "https://localhost:8080/"
        },
        "id": "a1juirhePOsZ",
        "outputId": "63b12d54-7e05-42b2-819f-476dc778c147"
      },
      "execution_count": 154,
      "outputs": [
        {
          "output_type": "stream",
          "name": "stdout",
          "text": [
            "<class 'numpy.ndarray'>\n"
          ]
        }
      ]
    },
    {
      "cell_type": "code",
      "source": [
        "matriz_2 = [\n",
        "    [1, 2, 3],\n",
        "    [4, 5, 6],\n",
        "    [7, 8, 9]\n",
        "]"
      ],
      "metadata": {
        "id": "O1jt96JgPUmf"
      },
      "execution_count": 155,
      "outputs": []
    },
    {
      "cell_type": "code",
      "source": [
        "matriz_2_numpy = numpy.array(matriz_2)"
      ],
      "metadata": {
        "id": "JXr38CfbP1I9"
      },
      "execution_count": 156,
      "outputs": []
    },
    {
      "cell_type": "code",
      "source": [
        "print(matriz_2_numpy)"
      ],
      "metadata": {
        "colab": {
          "base_uri": "https://localhost:8080/"
        },
        "id": "QzV4LpvmQFcM",
        "outputId": "a1687372-23fb-4a88-a73e-09426bb799db"
      },
      "execution_count": 157,
      "outputs": [
        {
          "output_type": "stream",
          "name": "stdout",
          "text": [
            "[[1 2 3]\n",
            " [4 5 6]\n",
            " [7 8 9]]\n"
          ]
        }
      ]
    },
    {
      "cell_type": "code",
      "source": [
        "print(type(matriz_2_numpy))"
      ],
      "metadata": {
        "colab": {
          "base_uri": "https://localhost:8080/"
        },
        "id": "OHjKtzNIQNhq",
        "outputId": "9653c4be-b966-45a9-d7be-e9865584bc99"
      },
      "execution_count": 158,
      "outputs": [
        {
          "output_type": "stream",
          "name": "stdout",
          "text": [
            "<class 'numpy.ndarray'>\n"
          ]
        }
      ]
    },
    {
      "cell_type": "code",
      "source": [
        "vetor_sequencial = numpy.array([0, 1, 2, 3, 4, 5])"
      ],
      "metadata": {
        "id": "RpDoL4BsQLTe"
      },
      "execution_count": 159,
      "outputs": []
    },
    {
      "cell_type": "code",
      "source": [
        "print(vetor_sequencial)"
      ],
      "metadata": {
        "colab": {
          "base_uri": "https://localhost:8080/"
        },
        "id": "4C8DTs40QfRO",
        "outputId": "c6a66a73-5385-4a80-a47a-426aba84f9fb"
      },
      "execution_count": 160,
      "outputs": [
        {
          "output_type": "stream",
          "name": "stdout",
          "text": [
            "[0 1 2 3 4 5]\n"
          ]
        }
      ]
    },
    {
      "cell_type": "code",
      "source": [
        "vetor_repetido = numpy.array([1, 1, 1, 1, 1])\n",
        "print(vetor_repetido)"
      ],
      "metadata": {
        "colab": {
          "base_uri": "https://localhost:8080/"
        },
        "id": "NM0ZU881Qg9f",
        "outputId": "804d69b1-5fd8-4bec-d50b-8c1dff54d4a4"
      },
      "execution_count": 161,
      "outputs": [
        {
          "output_type": "stream",
          "name": "stdout",
          "text": [
            "[1 1 1 1 1]\n"
          ]
        }
      ]
    },
    {
      "cell_type": "code",
      "source": [
        "vetor_10_elementos_aleatorios = numpy.random.rand(10)\n",
        "print(vetor_10_elementos_aleatorios)"
      ],
      "metadata": {
        "colab": {
          "base_uri": "https://localhost:8080/"
        },
        "id": "PYT3ViWZQ0FR",
        "outputId": "58cb634a-c8e4-491a-a7de-cb681eac02fd"
      },
      "execution_count": 162,
      "outputs": [
        {
          "output_type": "stream",
          "name": "stdout",
          "text": [
            "[0.46372897 0.74162611 0.77883264 0.64124852 0.7035992  0.75438345\n",
            " 0.90265293 0.41150593 0.19544601 0.40092713]\n"
          ]
        }
      ]
    },
    {
      "cell_type": "code",
      "source": [
        "vetor_10_elementos_aleatorios[0]"
      ],
      "metadata": {
        "colab": {
          "base_uri": "https://localhost:8080/"
        },
        "id": "5uG9uMSpRDJa",
        "outputId": "b5472d08-aaa9-47a0-c2b3-47922eeedddf"
      },
      "execution_count": 163,
      "outputs": [
        {
          "output_type": "execute_result",
          "data": {
            "text/plain": [
              "0.4637289675974311"
            ]
          },
          "metadata": {},
          "execution_count": 163
        }
      ]
    },
    {
      "cell_type": "code",
      "source": [
        "vetor_10_elementos_aleatorios[1]"
      ],
      "metadata": {
        "colab": {
          "base_uri": "https://localhost:8080/"
        },
        "id": "Od1SN1aIRKs-",
        "outputId": "c0fa5499-ff9b-4f4a-e997-c80e59841696"
      },
      "execution_count": 164,
      "outputs": [
        {
          "output_type": "execute_result",
          "data": {
            "text/plain": [
              "0.7416261104326667"
            ]
          },
          "metadata": {},
          "execution_count": 164
        }
      ]
    },
    {
      "cell_type": "code",
      "source": [
        "vetor_10_numeros_aleatorios = numpy.random.randint(0, 11, size=10)\n",
        "print(vetor_10_numeros_aleatorios)"
      ],
      "metadata": {
        "colab": {
          "base_uri": "https://localhost:8080/"
        },
        "id": "7UN6Q5n9ROer",
        "outputId": "25676ea7-2618-4457-a410-4dd20047f8ce"
      },
      "execution_count": 165,
      "outputs": [
        {
          "output_type": "stream",
          "name": "stdout",
          "text": [
            "[2 1 6 7 9 4 4 5 6 6]\n"
          ]
        }
      ]
    },
    {
      "cell_type": "code",
      "source": [
        "matriz_identidade = numpy.eye(3)"
      ],
      "metadata": {
        "id": "pDrLfDcTSESp"
      },
      "execution_count": 166,
      "outputs": []
    },
    {
      "cell_type": "code",
      "source": [
        "matriz_identidade"
      ],
      "metadata": {
        "colab": {
          "base_uri": "https://localhost:8080/"
        },
        "id": "fLBeNbotRryo",
        "outputId": "7f48530a-6635-42b4-ed91-abb6ca931f3c"
      },
      "execution_count": 167,
      "outputs": [
        {
          "output_type": "execute_result",
          "data": {
            "text/plain": [
              "array([[1., 0., 0.],\n",
              "       [0., 1., 0.],\n",
              "       [0., 0., 1.]])"
            ]
          },
          "metadata": {},
          "execution_count": 167
        }
      ]
    },
    {
      "cell_type": "code",
      "source": [
        "matriz_identidade_10x10 = numpy.eye(10)"
      ],
      "metadata": {
        "id": "kTsKs-dtSGyr"
      },
      "execution_count": 168,
      "outputs": []
    },
    {
      "cell_type": "code",
      "source": [
        "print(matriz_identidade_10x10)"
      ],
      "metadata": {
        "colab": {
          "base_uri": "https://localhost:8080/"
        },
        "id": "2Vu252ruSMoM",
        "outputId": "e289b579-d306-45d5-cc98-664491326c8b"
      },
      "execution_count": 169,
      "outputs": [
        {
          "output_type": "stream",
          "name": "stdout",
          "text": [
            "[[1. 0. 0. 0. 0. 0. 0. 0. 0. 0.]\n",
            " [0. 1. 0. 0. 0. 0. 0. 0. 0. 0.]\n",
            " [0. 0. 1. 0. 0. 0. 0. 0. 0. 0.]\n",
            " [0. 0. 0. 1. 0. 0. 0. 0. 0. 0.]\n",
            " [0. 0. 0. 0. 1. 0. 0. 0. 0. 0.]\n",
            " [0. 0. 0. 0. 0. 1. 0. 0. 0. 0.]\n",
            " [0. 0. 0. 0. 0. 0. 1. 0. 0. 0.]\n",
            " [0. 0. 0. 0. 0. 0. 0. 1. 0. 0.]\n",
            " [0. 0. 0. 0. 0. 0. 0. 0. 1. 0.]\n",
            " [0. 0. 0. 0. 0. 0. 0. 0. 0. 1.]]\n"
          ]
        }
      ]
    },
    {
      "cell_type": "code",
      "source": [
        "matriz_zeros = numpy.zeros((3, 3))\n",
        "print(matriz_zeros)"
      ],
      "metadata": {
        "colab": {
          "base_uri": "https://localhost:8080/"
        },
        "id": "TxHWOZEbSPIO",
        "outputId": "d65b0d07-2689-4ad6-b081-82b4d51e21dc"
      },
      "execution_count": 170,
      "outputs": [
        {
          "output_type": "stream",
          "name": "stdout",
          "text": [
            "[[0. 0. 0.]\n",
            " [0. 0. 0.]\n",
            " [0. 0. 0.]]\n"
          ]
        }
      ]
    },
    {
      "cell_type": "code",
      "source": [
        "matriz_zeros_1000x1000 = numpy.zeros((1000, 1000))\n",
        "print(matriz_zeros_1000x1000)"
      ],
      "metadata": {
        "colab": {
          "base_uri": "https://localhost:8080/"
        },
        "id": "frS3QJvxSbhU",
        "outputId": "ab1869d2-9db9-4cf3-dad1-1852b4617dba"
      },
      "execution_count": 171,
      "outputs": [
        {
          "output_type": "stream",
          "name": "stdout",
          "text": [
            "[[0. 0. 0. ... 0. 0. 0.]\n",
            " [0. 0. 0. ... 0. 0. 0.]\n",
            " [0. 0. 0. ... 0. 0. 0.]\n",
            " ...\n",
            " [0. 0. 0. ... 0. 0. 0.]\n",
            " [0. 0. 0. ... 0. 0. 0.]\n",
            " [0. 0. 0. ... 0. 0. 0.]]\n"
          ]
        }
      ]
    },
    {
      "cell_type": "code",
      "source": [
        "matriz_uns = numpy.ones((3, 3))\n",
        "print(f\"matriz_uns: {matriz_uns}\")"
      ],
      "metadata": {
        "colab": {
          "base_uri": "https://localhost:8080/"
        },
        "id": "Fb_hZAI0Sspy",
        "outputId": "99603da6-ccb1-41bc-e369-bfccc629448a"
      },
      "execution_count": 172,
      "outputs": [
        {
          "output_type": "stream",
          "name": "stdout",
          "text": [
            "matriz_uns: [[1. 1. 1.]\n",
            " [1. 1. 1.]\n",
            " [1. 1. 1.]]\n"
          ]
        }
      ]
    },
    {
      "cell_type": "code",
      "source": [
        "matriz_uns_1000x1000 = numpy.ones((1000, 1000))\n",
        "print(f\"matriz_uns_1000x1000: {matriz_uns_1000x1000}\")"
      ],
      "metadata": {
        "colab": {
          "base_uri": "https://localhost:8080/"
        },
        "id": "5tJnHPEoSgCz",
        "outputId": "5d582cdf-361f-4965-e2b3-f0241c240338"
      },
      "execution_count": 173,
      "outputs": [
        {
          "output_type": "stream",
          "name": "stdout",
          "text": [
            "matriz_uns_1000x1000: [[1. 1. 1. ... 1. 1. 1.]\n",
            " [1. 1. 1. ... 1. 1. 1.]\n",
            " [1. 1. 1. ... 1. 1. 1.]\n",
            " ...\n",
            " [1. 1. 1. ... 1. 1. 1.]\n",
            " [1. 1. 1. ... 1. 1. 1.]\n",
            " [1. 1. 1. ... 1. 1. 1.]]\n"
          ]
        }
      ]
    },
    {
      "cell_type": "code",
      "source": [
        "# Criando uma matriz com valores aleatórios\n",
        "matriz_aleatoria = numpy.random.rand(2, 3)\n",
        "print(f\"matriz_aleatoria: {matriz_aleatoria}\")"
      ],
      "metadata": {
        "colab": {
          "base_uri": "https://localhost:8080/"
        },
        "id": "ZVPctQKiS03m",
        "outputId": "50d790f3-1201-46ae-8207-25af6167147e"
      },
      "execution_count": 174,
      "outputs": [
        {
          "output_type": "stream",
          "name": "stdout",
          "text": [
            "matriz_aleatoria: [[0.72233511 0.60925028 0.64740323]\n",
            " [0.56043872 0.5500561  0.51516682]]\n"
          ]
        }
      ]
    },
    {
      "cell_type": "markdown",
      "source": [
        "# Operações sobre matrizes"
      ],
      "metadata": {
        "id": "mpRxbE6oTUDc"
      }
    },
    {
      "cell_type": "code",
      "source": [
        "# Criando dois arrays\n",
        "array1 = numpy.array([1, 2, 3])\n",
        "array2 = numpy.array([4, 5, 6])\n",
        "\n",
        "# Soma\n",
        "soma = array1 + array2\n",
        "print(soma)  # Output: [5 7 9]\n",
        "\n",
        "# Subtração\n",
        "subtracao = array2 - array1\n",
        "print(subtracao)  # Output: [3 3 3]"
      ],
      "metadata": {
        "colab": {
          "base_uri": "https://localhost:8080/"
        },
        "id": "8fx3T4xQTBZI",
        "outputId": "177a5328-ed00-44a4-e9af-c0a2999d077a"
      },
      "execution_count": 175,
      "outputs": [
        {
          "output_type": "stream",
          "name": "stdout",
          "text": [
            "[5 7 9]\n",
            "[3 3 3]\n"
          ]
        }
      ]
    },
    {
      "cell_type": "code",
      "source": [
        "A = numpy.array([\n",
        "    [1, 0, 2],\n",
        "    [-1, 3, 1]\n",
        "    ])\n",
        "\n",
        "B = numpy.array([\n",
        "    [3, 1],\n",
        "    [2, 1],\n",
        "    [1, 0]\n",
        "    ])\n",
        "\n",
        "print(f'A: {A}')\n",
        "print(f'B: {B}')"
      ],
      "metadata": {
        "colab": {
          "base_uri": "https://localhost:8080/"
        },
        "id": "MRFAqQqcTmXt",
        "outputId": "c048d9d7-ce31-411f-ceb6-f907e6a68eb2"
      },
      "execution_count": 176,
      "outputs": [
        {
          "output_type": "stream",
          "name": "stdout",
          "text": [
            "A: [[ 1  0  2]\n",
            " [-1  3  1]]\n",
            "B: [[3 1]\n",
            " [2 1]\n",
            " [1 0]]\n"
          ]
        }
      ]
    },
    {
      "cell_type": "code",
      "source": [
        "type(A)"
      ],
      "metadata": {
        "colab": {
          "base_uri": "https://localhost:8080/"
        },
        "id": "VzOm9XOYTsHB",
        "outputId": "29b5bfcd-54a6-49a1-d721-7e801ed2e60a"
      },
      "execution_count": 177,
      "outputs": [
        {
          "output_type": "execute_result",
          "data": {
            "text/plain": [
              "numpy.ndarray"
            ]
          },
          "metadata": {},
          "execution_count": 177
        }
      ]
    },
    {
      "cell_type": "code",
      "source": [
        "type(B)"
      ],
      "metadata": {
        "colab": {
          "base_uri": "https://localhost:8080/"
        },
        "id": "r7CdibNqTu8x",
        "outputId": "de660804-d671-4218-96a9-e3af7a227b93"
      },
      "execution_count": 178,
      "outputs": [
        {
          "output_type": "execute_result",
          "data": {
            "text/plain": [
              "numpy.ndarray"
            ]
          },
          "metadata": {},
          "execution_count": 178
        }
      ]
    },
    {
      "cell_type": "code",
      "source": [
        "# O produto entre as matrizes A e B\n",
        "# C = A x B\n",
        "import time\n",
        "\n",
        "t1 = time.time()\n",
        "C = numpy.dot(A, B)\n",
        "t2 = time.time()\n",
        "print(f'Tempo de execução: {t2 - t1}')\n",
        "print(f'C: {C}')"
      ],
      "metadata": {
        "colab": {
          "base_uri": "https://localhost:8080/"
        },
        "id": "wLtgw9sKTwSj",
        "outputId": "68ce6eec-fe6b-46f7-d68f-a2e0f33918d8"
      },
      "execution_count": 179,
      "outputs": [
        {
          "output_type": "stream",
          "name": "stdout",
          "text": [
            "Tempo de execução: 0.0013880729675292969\n",
            "C: [[5 1]\n",
            " [4 2]]\n"
          ]
        }
      ]
    },
    {
      "cell_type": "markdown",
      "source": [
        "# Usando funções mátemáticas do Numpy"
      ],
      "metadata": {
        "id": "uk7UbD8BZD9-"
      }
    },
    {
      "cell_type": "code",
      "source": [
        "print(numpy.pi)"
      ],
      "metadata": {
        "colab": {
          "base_uri": "https://localhost:8080/"
        },
        "id": "jqKv6Z9-aqki",
        "outputId": "5191a65d-9274-4fc0-c00d-2605ed0141d7"
      },
      "execution_count": 180,
      "outputs": [
        {
          "output_type": "stream",
          "name": "stdout",
          "text": [
            "3.141592653589793\n"
          ]
        }
      ]
    },
    {
      "cell_type": "code",
      "source": [
        "round(numpy.pi, 4)"
      ],
      "metadata": {
        "colab": {
          "base_uri": "https://localhost:8080/"
        },
        "id": "LcODIQg-auHh",
        "outputId": "42a53617-e43b-4f2b-d19f-1790d9750df2"
      },
      "execution_count": 181,
      "outputs": [
        {
          "output_type": "execute_result",
          "data": {
            "text/plain": [
              "3.1416"
            ]
          },
          "metadata": {},
          "execution_count": 181
        }
      ]
    },
    {
      "cell_type": "code",
      "source": [
        "# Criando um array de ângulos em radianos\n",
        "vetor_angulos = numpy.array([0, numpy.pi/2, numpy.pi])\n",
        "print(vetor_angulos)"
      ],
      "metadata": {
        "colab": {
          "base_uri": "https://localhost:8080/"
        },
        "id": "Wsd95UNaU1yp",
        "outputId": "147d0794-57b9-4e0a-970f-16b34e113d9e"
      },
      "execution_count": 182,
      "outputs": [
        {
          "output_type": "stream",
          "name": "stdout",
          "text": [
            "[0.         1.57079633 3.14159265]\n"
          ]
        }
      ]
    },
    {
      "cell_type": "code",
      "source": [
        "print(\"Valores em radianos\")\n",
        "print(\"1o. elemento: \", vetor_angulos[0])\n",
        "print(\"2o. elemento: \", vetor_angulos[1])\n",
        "print(\"3o. elemento: \", vetor_angulos[2])"
      ],
      "metadata": {
        "colab": {
          "base_uri": "https://localhost:8080/"
        },
        "id": "N6jrb4sdbFCE",
        "outputId": "00b07857-446a-4441-a800-0f06a4ead0a3"
      },
      "execution_count": 183,
      "outputs": [
        {
          "output_type": "stream",
          "name": "stdout",
          "text": [
            "Valores em radianos\n",
            "1o. elemento:  0.0\n",
            "2o. elemento:  1.5707963267948966\n",
            "3o. elemento:  3.141592653589793\n"
          ]
        }
      ]
    },
    {
      "cell_type": "code",
      "source": [
        "vetor_senos = numpy.sin(vetor_angulos)\n",
        "vetor_cossenos = numpy.cos(vetor_angulos)\n",
        "vetor_tangentes = numpy.tan(vetor_angulos)"
      ],
      "metadata": {
        "id": "rXYjMA6iWCCp"
      },
      "execution_count": 184,
      "outputs": []
    },
    {
      "cell_type": "code",
      "source": [
        "print(\"Valores (radianos) do vetor SENO resultante\")\n",
        "print(\"1o. elemento: \", vetor_senos[0])\n",
        "print(\"2o. elemento: \", vetor_senos[1])\n",
        "print(\"3o. elemento: \", round(vetor_senos[2], 4))"
      ],
      "metadata": {
        "colab": {
          "base_uri": "https://localhost:8080/"
        },
        "id": "3fn3x2dTbhwI",
        "outputId": "cc745af1-8cdb-4346-b43a-67d80f99c814"
      },
      "execution_count": 185,
      "outputs": [
        {
          "output_type": "stream",
          "name": "stdout",
          "text": [
            "Valores (radianos) do vetor SENO resultante\n",
            "1o. elemento:  0.0\n",
            "2o. elemento:  1.0\n",
            "3o. elemento:  0.0\n"
          ]
        }
      ]
    },
    {
      "cell_type": "code",
      "source": [
        "print(\"Valores (radianos) do vetor COSSENO resultante\")\n",
        "print(\"1o. elemento: \", vetor_cossenos[0])\n",
        "print(\"2o. elemento: \", round(vetor_cossenos[1], 4))\n",
        "print(\"3o. elemento: \", vetor_cossenos[2])"
      ],
      "metadata": {
        "colab": {
          "base_uri": "https://localhost:8080/"
        },
        "id": "1f2HXEvMbxdG",
        "outputId": "366c4d6e-2e8f-47bb-bf55-7e4963700497"
      },
      "execution_count": 186,
      "outputs": [
        {
          "output_type": "stream",
          "name": "stdout",
          "text": [
            "Valores (radianos) do vetor COSSENO resultante\n",
            "1o. elemento:  1.0\n",
            "2o. elemento:  0.0\n",
            "3o. elemento:  -1.0\n"
          ]
        }
      ]
    },
    {
      "cell_type": "code",
      "source": [
        "print(\"Valores (radianos) do vetor TANGENTE resultante\")\n",
        "print(\"1o. elemento: \", vetor_tangentes[0])\n",
        "print(\"2o. elemento: \", round(vetor_tangentes[1], 4))\n",
        "print(\"3o. elemento: \", round(vetor_tangentes[2]), 4)"
      ],
      "metadata": {
        "colab": {
          "base_uri": "https://localhost:8080/"
        },
        "id": "Knyjkh5zb5J0",
        "outputId": "cfb9ab47-47c6-4f83-f231-4fb57e01f867"
      },
      "execution_count": 187,
      "outputs": [
        {
          "output_type": "stream",
          "name": "stdout",
          "text": [
            "Valores (radianos) do vetor TANGENTE resultante\n",
            "1o. elemento:  0.0\n",
            "2o. elemento:  1.633123935319537e+16\n",
            "3o. elemento:  0 4\n"
          ]
        }
      ]
    },
    {
      "cell_type": "code",
      "source": [
        "import numpy\n",
        "\n",
        "# Gera uma matriz 27x12 de temperaturas randomicas\n",
        "matriz_temperaturas = numpy.random.rand(27, 12) * 40\n",
        "print(matriz_temperaturas)"
      ],
      "metadata": {
        "colab": {
          "base_uri": "https://localhost:8080/"
        },
        "id": "8x8QeVJlYkMn",
        "outputId": "8597966e-3a7f-4b97-8315-4642d1ef3f20"
      },
      "execution_count": 188,
      "outputs": [
        {
          "output_type": "stream",
          "name": "stdout",
          "text": [
            "[[ 1.55715452 34.70307133 16.48946056 20.40171453 21.49936199 29.4938836\n",
            "  25.88202248 23.94527529 15.68666838 21.17489887  4.9884555  23.21297685]\n",
            " [36.73908814 27.3508438  11.52888411  0.49066275 29.5228581   4.41677815\n",
            "  24.31833122 26.18065024 39.17478216 15.83540717 13.45830557  0.20463139]\n",
            " [29.69526143 38.88551798  3.09609026 25.45349035  7.47528514 15.49610301\n",
            "   0.92098154  4.42265478 10.46390207 22.70852998  6.82979081 21.84648969]\n",
            " [ 4.78775872 36.26259684 27.95465071 25.84867174 18.78986589  7.96858621\n",
            "  31.99269361 31.79762325  4.97125177 14.59195848  5.65305112 30.53906307]\n",
            " [22.79618214  2.16887043 10.81861262 19.97070546 21.75798496 15.98416098\n",
            "  31.97703274 23.61521358 23.66331787  8.48037202 35.2086724  32.79604872]\n",
            " [ 9.99053956 20.12705835 28.85945764 33.00218868 10.40607849  2.50493403\n",
            "  14.66280732 18.16780118  6.57756249  3.95912955 16.65454493 21.39007601]\n",
            " [14.24966633 35.06742839 18.3777121  36.59428929 21.93494586 23.72555629\n",
            "  35.66750096  5.90910597  7.89302416 36.96700969 26.72283947  0.45282687]\n",
            " [19.36888562 21.86914976 38.93456138 24.40273934 30.55503588 29.14776981\n",
            "  34.14874787 21.53975734  5.79710836  6.13537363 24.25024792 26.46522923]\n",
            " [ 7.79168149  2.9262836   2.920375    4.15769778  3.49320117 18.52726571\n",
            "   3.62415514 33.29715073 39.17691805 37.16877992 12.84612492 38.89358827]\n",
            " [14.39742325 36.02522738 14.2263091  10.8188152   9.0817322  25.83843982\n",
            "  16.79024806 13.03587649  0.99399519 17.30135915 26.33034613 11.49937283]\n",
            " [35.7356201   9.73898035 14.68634578 15.25294613 22.44126058 17.96672368\n",
            "  27.00320462  3.52294558 39.42129624  1.2156402  14.40460123 26.55128753]\n",
            " [14.89550927 26.77953231 15.56425412  9.32966816 38.16454399  1.48079226\n",
            "  18.87213029 39.38743384 21.20615088 25.73184981 13.33636239 35.2803041 ]\n",
            " [38.83886497 24.24664667 36.70734817 11.72970406 38.92669123 26.95776934\n",
            "  33.11929092  9.8165758   1.03361105 10.07159142 19.80599825  3.54868492]\n",
            " [ 6.24373206 20.52868268 32.60654717 12.45077953 39.62543505 14.27524152\n",
            "  15.26537447 12.80116473  5.05300819  1.81277116 31.53637868  4.91010267]\n",
            " [17.35867109  8.263886    4.11693595 36.3746441  29.01165661 33.46551154\n",
            "   3.89903091  4.71778166 29.4921905   0.57292551 22.33256944 16.95365464]\n",
            " [ 1.2263469   8.00225371  6.30376365 33.09056252  4.19230252  8.03722935\n",
            "  33.29020651 31.96974259 18.92837064 14.28038327 37.22066818  7.7625974 ]\n",
            " [ 7.03785465 16.13661052 35.39966697  5.41033956  7.89088642 33.17243248\n",
            "  18.84693908  4.77017806 28.27848369 26.83011802 28.29877297 25.30728472]\n",
            " [18.22049358  5.37342848 11.73046143 26.88529148  6.18930904 32.80018\n",
            "   9.92721677 10.99279217 34.24755587 33.03809163 13.11127723 38.95633218]\n",
            " [22.85244    18.0318379  36.88130788 22.12754458 13.71135142 33.60810622\n",
            "  20.70172445 28.64517719 22.29364086 32.01982421 33.9790302  16.9045585 ]\n",
            " [36.05110047 10.79210237  4.09894683 28.89969145 20.3637572  22.36953187\n",
            "  37.1177182  24.13300181 18.47167595 16.75547392 22.33620102 32.73861366]\n",
            " [12.75274349 32.30575458 22.55790321 20.03944035 19.37781034 22.0536097\n",
            "  35.45200367 22.12889136  7.73116716 38.78401104  5.64430027 31.30885352]\n",
            " [36.89263466 31.65668679 27.48513117  8.1114074  27.74968014 21.81144154\n",
            "  37.6205039   1.28923705  2.89496613 21.90576279  0.58294611  3.17356407]\n",
            " [37.35308982 23.09852375 13.01597362 32.71828575 14.49869791 22.91790587\n",
            "  14.62872246  0.95697234 26.86622261  2.94960954 27.95620275 12.77487969]\n",
            " [ 4.64518789  5.87910875  5.28887834 20.9248602  24.39006257 24.65819533\n",
            "  32.12229368 18.6778774   3.83352905 19.99155373 22.09450387 16.55822057]\n",
            " [31.70023752  6.52228992 18.79534171 31.7593526  20.74837139 28.8806551\n",
            "  36.82808746 29.38826507 34.74890422 33.50957189 30.77790261 19.26975575]\n",
            " [35.86978094 24.9627883  29.47501167 18.69170598 36.68564557  8.91028485\n",
            "  16.83369638  4.00013548 26.43266061 31.56455522 25.58103656 24.48584552]\n",
            " [11.05444586 38.05978433  9.90302699  9.88779804 21.39921554  8.58169023\n",
            "  20.65977625 39.20524605  2.15406134  6.94246753 28.6289098  25.69105103]]\n"
          ]
        }
      ]
    },
    {
      "cell_type": "code",
      "source": [
        "media_temperaturas = numpy.mean(matriz_temperaturas)\n",
        "desvio_padrao_temperaturas = numpy.std(matriz_temperaturas)\n",
        "maximo_matriz_temperaturas = numpy.max(matriz_temperaturas)\n",
        "minimo_matriz_temperaturas = numpy.min(matriz_temperaturas)"
      ],
      "metadata": {
        "id": "fTgFPhRsdhGK"
      },
      "execution_count": 189,
      "outputs": []
    },
    {
      "cell_type": "code",
      "source": [
        "print(\"media_temperaturas: \", round(media_temperaturas, 2))\n",
        "print(\"Desvio padrão: \", round(desvio_padrao_temperaturas, 2))\n",
        "print(\"Máximo: \", round(maximo_matriz_temperaturas, 2))\n",
        "print(\"Mínimo: \", round(minimo_matriz_temperaturas, 2))"
      ],
      "metadata": {
        "colab": {
          "base_uri": "https://localhost:8080/"
        },
        "id": "q_MQXHlJd3yI",
        "outputId": "ba3c927d-5022-42cf-d4e6-8aa50ffc70b0"
      },
      "execution_count": 190,
      "outputs": [
        {
          "output_type": "stream",
          "name": "stdout",
          "text": [
            "media_temperaturas:  19.86\n",
            "Desvio padrão:  11.44\n",
            "Máximo:  39.63\n",
            "Mínimo:  0.2\n"
          ]
        }
      ]
    },
    {
      "cell_type": "code",
      "source": [
        "# Calculando a média, desvio padrão, máximo e mínimo\n",
        "media = numpy.mean(temperaturas)\n",
        "desvio_padrao = numpy.std(temperaturas)\n",
        "maximo = numpy.max(temperaturas)\n",
        "minimo = numpy.min(temperaturas)\n",
        "\n",
        "print(\"Média:\", media)\n",
        "print(\"Desvio padrão:\", desvio_padrao)\n",
        "print(\"Valor máximo:\", maximo)\n",
        "print(\"Valor mínimo:\", minimo)"
      ],
      "metadata": {
        "colab": {
          "base_uri": "https://localhost:8080/"
        },
        "id": "ypwo-90-XsJ4",
        "outputId": "839ef266-7954-472a-98d0-f5015f0c8b4e"
      },
      "execution_count": 191,
      "outputs": [
        {
          "output_type": "stream",
          "name": "stdout",
          "text": [
            "Média: 20.62714211066913\n",
            "Desvio padrão: 11.68304969110936\n",
            "Valor máximo: 39.96675969155423\n",
            "Valor mínimo: 0.02425525070567147\n"
          ]
        }
      ]
    },
    {
      "cell_type": "markdown",
      "source": [
        "# Resolvendo Sistemas Lineares com o Numpy"
      ],
      "metadata": {
        "id": "IKXw1BJBgc3T"
      }
    },
    {
      "cell_type": "markdown",
      "source": [
        "Seja o seguinte sistema de equações:\n",
        "\n",
        "2x + y = 8\n",
        "\n",
        "x - y = 1"
      ],
      "metadata": {
        "id": "i1dXs6-MxWGY"
      }
    },
    {
      "cell_type": "code",
      "source": [
        "import numpy\n",
        "\n",
        "# Definindo a matriz dos coeficientes e o vetor dos termos independentes\n",
        "A = numpy.array([[2, 1], [1, -1]])\n",
        "b = numpy.array([8, 1])"
      ],
      "metadata": {
        "id": "fXMFzFNhYaim"
      },
      "execution_count": 204,
      "outputs": []
    },
    {
      "cell_type": "code",
      "source": [
        "print('Matriz dos coeficientes')\n",
        "print(A)"
      ],
      "metadata": {
        "colab": {
          "base_uri": "https://localhost:8080/"
        },
        "id": "wvg1IxT4gi04",
        "outputId": "4d075b77-2d4f-4a26-ca9e-d4755f797a8b"
      },
      "execution_count": 205,
      "outputs": [
        {
          "output_type": "stream",
          "name": "stdout",
          "text": [
            "Matriz dos coeficientes\n",
            "[[ 2  1]\n",
            " [ 1 -1]]\n"
          ]
        }
      ]
    },
    {
      "cell_type": "code",
      "source": [
        "print('Vetor dos termos independentes')\n",
        "print(b)"
      ],
      "metadata": {
        "colab": {
          "base_uri": "https://localhost:8080/"
        },
        "id": "HVEW1vSwgpXE",
        "outputId": "ab5b4513-a45c-4f5f-d686-844ee67edf6c"
      },
      "execution_count": 206,
      "outputs": [
        {
          "output_type": "stream",
          "name": "stdout",
          "text": [
            "Vetor dos termos independentes\n",
            "[8 1]\n"
          ]
        }
      ]
    },
    {
      "cell_type": "code",
      "source": [
        "resultado = numpy.linalg.solve(A, b)\n",
        "print(\"Solução do sistema:\")\n",
        "print(\"x =\", resultado[0])\n",
        "print(\"y =\", resultado[1])"
      ],
      "metadata": {
        "colab": {
          "base_uri": "https://localhost:8080/"
        },
        "id": "Mq6GibqEgjiK",
        "outputId": "bb757e3a-a904-4425-8bfb-d9363516dd4d"
      },
      "execution_count": 210,
      "outputs": [
        {
          "output_type": "stream",
          "name": "stdout",
          "text": [
            "Solução do sistema:\n",
            "x = 3.0\n",
            "y = 2.0\n"
          ]
        }
      ]
    },
    {
      "cell_type": "code",
      "source": [],
      "metadata": {
        "id": "TlDE_hLDxH5X"
      },
      "execution_count": null,
      "outputs": []
    }
  ]
}